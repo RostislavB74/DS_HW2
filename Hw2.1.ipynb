{
 "cells": [
  {
   "cell_type": "code",
   "execution_count": 9,
   "id": "486cf04d-efd7-4ae2-bc89-77c4155031ed",
   "metadata": {},
   "outputs": [
    {
     "data": {
      "text/plain": [
       "['Регіон', '1950', '1960', '1970', '1990', '2000', '2012', '2014', '2019']"
      ]
     },
     "execution_count": 9,
     "metadata": {},
     "output_type": "execute_result"
    }
   ],
   "source": [
    "#Вивести перші рядки таблиці за допомогою методу head\n",
    "import pandas as pd\n",
    "\n",
    "tmp = pd.read_html(\"https://uk.wikipedia.org/wiki/%D0%9D%D0%B0%D1%81%D0%B5%D0%BB%D0%B5%D0%BD%D0%BD%D1%8F_%D0%A3%D0%BA%D1%80%D0%B0%D1%97%D0%BD%D0%B8\", match='Коефіцієнт народжуваності в регіонах України')\n",
    "df=tmp[0]\n",
    "list(df.head())"
   ]
  },
  {
   "cell_type": "code",
   "execution_count": 10,
   "id": "7fc6ba66-42e4-4b0a-89f2-2e0dc77a2016",
   "metadata": {},
   "outputs": [
    {
     "data": {
      "text/plain": [
       "(28, 9)"
      ]
     },
     "execution_count": 10,
     "metadata": {},
     "output_type": "execute_result"
    }
   ],
   "source": [
    "#Визначте кількість рядків та стовпців у датафреймі (атрибут shape)\n",
    "df.shape"
   ]
  },
  {
   "cell_type": "code",
   "execution_count": 11,
   "id": "c004704d-f3f3-48ab-be82-9596cd7b87c5",
   "metadata": {},
   "outputs": [
    {
     "name": "stdout",
     "output_type": "stream",
     "text": [
      "<class 'pandas.core.frame.DataFrame'>\n",
      "RangeIndex: 28 entries, 0 to 27\n",
      "Data columns (total 9 columns):\n",
      " #   Column  Non-Null Count  Dtype  \n",
      "---  ------  --------------  -----  \n",
      " 0   Регіон  28 non-null     object \n",
      " 1   1950    26 non-null     float64\n",
      " 2   1960    27 non-null     float64\n",
      " 3   1970    27 non-null     float64\n",
      " 4   1990    28 non-null     int64  \n",
      " 5   2000    28 non-null     int64  \n",
      " 6   2012    28 non-null     int64  \n",
      " 7   2014    28 non-null     object \n",
      " 8   2019    28 non-null     object \n",
      "dtypes: float64(3), int64(3), object(3)\n",
      "memory usage: 2.1+ KB\n",
      "               Регіон   1950   1960   1970  1990  2000  2012 2014 2019\n",
      "0                Крим  230.0  206.0  160.0   130    73   126    —    —\n",
      "1           Вінницька  224.0  192.0  142.0   124    84   112  109   76\n",
      "2           Волинська  247.0  250.0  179.0   153   112   148  141  101\n",
      "3    Дніпропетровська  204.0  204.0  151.0   123    71   112  111   71\n",
      "4            Донецька  271.0  214.0  140.0   109    61    98   82    —\n",
      "5         Житомирська  261.0  223.0  159.0   129    89   122  120   79\n",
      "6        Закарпатська  314.0  273.0  207.0   168   115   151  146  104\n",
      "7          Запорізька  219.0  197.0  150.0   124    71   106  106   68\n",
      "8   Івано-Франківська  243.0  248.0  182.0   155   103   124  122   88\n",
      "9            Київська  204.0  189.0  156.0   123    73   122  121   80\n",
      "10     Кіровоградська  216.0  171.0  145.0   126    79   110  108   68\n",
      "11          Луганська  262.0  235.0  144.0   116    62    96   51    —\n",
      "12          Львівська  234.0  240.0  171.0   140    91   119  119   87\n",
      "13       Миколаївська  211.0  194.0  155.0   137    80   115  112   71\n",
      "14            Одеська  241.0  192.0  148.0   126    80   127  123   88\n",
      "15         Полтавська  186.0  163.0  131.0   118    70    99  100   65\n",
      "16         Рівненська  269.0  267.0  193.0   158   118   159  148  107\n",
      "17            Сумська  216.0  184.0  132.0   115    70    97   92   60\n",
      "18      Тернопільська  213.0  216.0  157.0   142    92   113  109   76\n",
      "19         Харківська  197.0  173.0  140.0   114    68    99  101   68\n",
      "20         Херсонська  208.0  214.0  166.0   143    85   117  115   81\n",
      "21        Хмельницька  234.0  198.0  148.0   129    85   113  112   79\n",
      "22          Черкаська  205.0  179.0  144.0   123    75   100   98   64\n",
      "23        Чернівецька  247.0  218.0  170.0   148   101   128  129   92\n",
      "24       Чернігівська  220.0  183.0  127.0   108    69    94   90   61\n",
      "25               Київ    NaN  174.0  159.0   120    73   120  121  110\n",
      "26        Севастополь    NaN    NaN    NaN   125    70   120    —    —\n",
      "27            Україна  228.0  205.0  152.0   126    78   114  111   81\n"
     ]
    }
   ],
   "source": [
    "df.info()\n",
    "print(df)"
   ]
  },
  {
   "cell_type": "code",
   "execution_count": 12,
   "id": "1bb83ef7-5182-4d5b-88e4-c34e44f59145",
   "metadata": {},
   "outputs": [
    {
     "name": "stdout",
     "output_type": "stream",
     "text": [
      "               Регіон   1950   1960   1970  1990  2000  2012 2014 2019\n",
      "0                Крим  230.0  206.0  160.0   130    73   126  NaN  NaN\n",
      "1           Вінницька  224.0  192.0  142.0   124    84   112  109   76\n",
      "2           Волинська  247.0  250.0  179.0   153   112   148  141  101\n",
      "3    Дніпропетровська  204.0  204.0  151.0   123    71   112  111   71\n",
      "4            Донецька  271.0  214.0  140.0   109    61    98   82  NaN\n",
      "5         Житомирська  261.0  223.0  159.0   129    89   122  120   79\n",
      "6        Закарпатська  314.0  273.0  207.0   168   115   151  146  104\n",
      "7          Запорізька  219.0  197.0  150.0   124    71   106  106   68\n",
      "8   Івано-Франківська  243.0  248.0  182.0   155   103   124  122   88\n",
      "9            Київська  204.0  189.0  156.0   123    73   122  121   80\n",
      "10     Кіровоградська  216.0  171.0  145.0   126    79   110  108   68\n",
      "11          Луганська  262.0  235.0  144.0   116    62    96   51  NaN\n",
      "12          Львівська  234.0  240.0  171.0   140    91   119  119   87\n",
      "13       Миколаївська  211.0  194.0  155.0   137    80   115  112   71\n",
      "14            Одеська  241.0  192.0  148.0   126    80   127  123   88\n",
      "15         Полтавська  186.0  163.0  131.0   118    70    99  100   65\n",
      "16         Рівненська  269.0  267.0  193.0   158   118   159  148  107\n",
      "17            Сумська  216.0  184.0  132.0   115    70    97   92   60\n",
      "18      Тернопільська  213.0  216.0  157.0   142    92   113  109   76\n",
      "19         Харківська  197.0  173.0  140.0   114    68    99  101   68\n",
      "20         Херсонська  208.0  214.0  166.0   143    85   117  115   81\n",
      "21        Хмельницька  234.0  198.0  148.0   129    85   113  112   79\n",
      "22          Черкаська  205.0  179.0  144.0   123    75   100   98   64\n",
      "23        Чернівецька  247.0  218.0  170.0   148   101   128  129   92\n",
      "24       Чернігівська  220.0  183.0  127.0   108    69    94   90   61\n",
      "25               Київ    NaN  174.0  159.0   120    73   120  121  110\n",
      "26        Севастополь    NaN    NaN    NaN   125    70   120  NaN  NaN\n",
      "27            Україна  228.0  205.0  152.0   126    78   114  111   81\n"
     ]
    }
   ],
   "source": [
    "#Замініть у таблиці значення \"—\" на значення NaN\n",
    "import numpy as np\n",
    "df1 = df.replace(\"—\", np.nan)\n",
    "\n",
    "# Виведемо DataFrame після заміни значень\n",
    "print(df1)"
   ]
  },
  {
   "cell_type": "code",
   "execution_count": 13,
   "id": "b6be0a03-5b29-4f46-a988-26592abcdc6e",
   "metadata": {},
   "outputs": [
    {
     "data": {
      "text/plain": [
       "Регіон     object\n",
       "1950      float64\n",
       "1960      float64\n",
       "1970      float64\n",
       "1990        int64\n",
       "2000        int64\n",
       "2012        int64\n",
       "2014       object\n",
       "2019       object\n",
       "dtype: object"
      ]
     },
     "execution_count": 13,
     "metadata": {},
     "output_type": "execute_result"
    }
   ],
   "source": [
    "#Визначте типи всіх стовпців за допомогою dataframe.dtypes\n",
    "df1.dtypes"
   ]
  },
  {
   "cell_type": "code",
   "execution_count": 14,
   "id": "2c32d270-a433-4bc0-a2f8-cce228b71c1c",
   "metadata": {},
   "outputs": [
    {
     "name": "stdout",
     "output_type": "stream",
     "text": [
      "               Регіон   1950   1960   1970  1990  2000  2012 2014 2019\n",
      "0                Крим  230.0  206.0  160.0   130    73   126    0    0\n",
      "1           Вінницька  224.0  192.0  142.0   124    84   112  109   76\n",
      "2           Волинська  247.0  250.0  179.0   153   112   148  141  101\n",
      "3    Дніпропетровська  204.0  204.0  151.0   123    71   112  111   71\n",
      "4            Донецька  271.0  214.0  140.0   109    61    98   82    0\n",
      "5         Житомирська  261.0  223.0  159.0   129    89   122  120   79\n",
      "6        Закарпатська  314.0  273.0  207.0   168   115   151  146  104\n",
      "7          Запорізька  219.0  197.0  150.0   124    71   106  106   68\n",
      "8   Івано-Франківська  243.0  248.0  182.0   155   103   124  122   88\n",
      "9            Київська  204.0  189.0  156.0   123    73   122  121   80\n",
      "10     Кіровоградська  216.0  171.0  145.0   126    79   110  108   68\n",
      "11          Луганська  262.0  235.0  144.0   116    62    96   51    0\n",
      "12          Львівська  234.0  240.0  171.0   140    91   119  119   87\n",
      "13       Миколаївська  211.0  194.0  155.0   137    80   115  112   71\n",
      "14            Одеська  241.0  192.0  148.0   126    80   127  123   88\n",
      "15         Полтавська  186.0  163.0  131.0   118    70    99  100   65\n",
      "16         Рівненська  269.0  267.0  193.0   158   118   159  148  107\n",
      "17            Сумська  216.0  184.0  132.0   115    70    97   92   60\n",
      "18      Тернопільська  213.0  216.0  157.0   142    92   113  109   76\n",
      "19         Харківська  197.0  173.0  140.0   114    68    99  101   68\n",
      "20         Херсонська  208.0  214.0  166.0   143    85   117  115   81\n",
      "21        Хмельницька  234.0  198.0  148.0   129    85   113  112   79\n",
      "22          Черкаська  205.0  179.0  144.0   123    75   100   98   64\n",
      "23        Чернівецька  247.0  218.0  170.0   148   101   128  129   92\n",
      "24       Чернігівська  220.0  183.0  127.0   108    69    94   90   61\n",
      "25               Київ    NaN  174.0  159.0   120    73   120  121  110\n",
      "26        Севастополь    NaN    NaN    NaN   125    70   120    0    0\n",
      "27            Україна  228.0  205.0  152.0   126    78   114  111   81\n"
     ]
    }
   ],
   "source": [
    "#Замініть типи нечислових колонок на числові. Підказка - це колонки, де знаходився символ \"—\"\n",
    "import numpy as np\n",
    "df3 = df.replace(\"—\", \"0\")\n",
    "\n",
    "# Виведемо DataFrame після заміни значень\n",
    "print(df3)"
   ]
  },
  {
   "cell_type": "code",
   "execution_count": 15,
   "id": "711b44cd-d35d-492c-b987-e4a20d09306d",
   "metadata": {},
   "outputs": [
    {
     "name": "stdout",
     "output_type": "stream",
     "text": [
      "Частка пропусків в кожній колонці:\n",
      "Регіон    0.000000\n",
      "1950      7.142857\n",
      "1960      3.571429\n",
      "1970      3.571429\n",
      "1990      0.000000\n",
      "2000      0.000000\n",
      "2012      0.000000\n",
      "2014      0.000000\n",
      "2019      0.000000\n",
      "dtype: float64\n"
     ]
    }
   ],
   "source": [
    "#Порахуйте, яка частка пропусків міститься в кожній колонці (використовуйте методи isnull та sum)\n",
    "missing_values = df3.isnull().sum()\n",
    "# Підрахунок частки пропущених значень в кожній колонці\n",
    "total_rows = len(df3)\n",
    "missing_percentage = (missing_values / total_rows) * 100\n",
    "# Виведемо результати\n",
    "print(\"Частка пропусків в кожній колонці:\")\n",
    "print(missing_percentage)\n"
   ]
  },
  {
   "cell_type": "code",
   "execution_count": 16,
   "id": "3c371979-4d61-449c-8a3c-c52a336f2a8d",
   "metadata": {},
   "outputs": [
    {
     "name": "stdout",
     "output_type": "stream",
     "text": [
      "               Регіон   1950   1960   1970  1990  2000  2012 2014 2019\n",
      "0                Крим  230.0  206.0  160.0   130    73   126    0    0\n",
      "1           Вінницька  224.0  192.0  142.0   124    84   112  109   76\n",
      "2           Волинська  247.0  250.0  179.0   153   112   148  141  101\n",
      "3    Дніпропетровська  204.0  204.0  151.0   123    71   112  111   71\n",
      "4            Донецька  271.0  214.0  140.0   109    61    98   82    0\n",
      "5         Житомирська  261.0  223.0  159.0   129    89   122  120   79\n",
      "6        Закарпатська  314.0  273.0  207.0   168   115   151  146  104\n",
      "7          Запорізька  219.0  197.0  150.0   124    71   106  106   68\n",
      "8   Івано-Франківська  243.0  248.0  182.0   155   103   124  122   88\n",
      "9            Київська  204.0  189.0  156.0   123    73   122  121   80\n",
      "10     Кіровоградська  216.0  171.0  145.0   126    79   110  108   68\n",
      "11          Луганська  262.0  235.0  144.0   116    62    96   51    0\n",
      "12          Львівська  234.0  240.0  171.0   140    91   119  119   87\n",
      "13       Миколаївська  211.0  194.0  155.0   137    80   115  112   71\n",
      "14            Одеська  241.0  192.0  148.0   126    80   127  123   88\n",
      "15         Полтавська  186.0  163.0  131.0   118    70    99  100   65\n",
      "16         Рівненська  269.0  267.0  193.0   158   118   159  148  107\n",
      "17            Сумська  216.0  184.0  132.0   115    70    97   92   60\n",
      "18      Тернопільська  213.0  216.0  157.0   142    92   113  109   76\n",
      "19         Харківська  197.0  173.0  140.0   114    68    99  101   68\n",
      "20         Херсонська  208.0  214.0  166.0   143    85   117  115   81\n",
      "21        Хмельницька  234.0  198.0  148.0   129    85   113  112   79\n",
      "22          Черкаська  205.0  179.0  144.0   123    75   100   98   64\n",
      "23        Чернівецька  247.0  218.0  170.0   148   101   128  129   92\n",
      "24       Чернігівська  220.0  183.0  127.0   108    69    94   90   61\n",
      "25               Київ    NaN  174.0  159.0   120    73   120  121  110\n",
      "26        Севастополь    NaN    NaN    NaN   125    70   120    0    0\n"
     ]
    }
   ],
   "source": [
    "#Видаліть з таблиці дані по всій країні, останній рядок таблиці\n",
    "df5 = df3.drop(df3.index[-1])\n",
    "\n",
    "# Виведемо оновлений DataFrame без останнього рядка\n",
    "print(df5)"
   ]
  },
  {
   "cell_type": "code",
   "execution_count": 17,
   "id": "538e16c1-8f24-4bae-8861-9f11174890d2",
   "metadata": {},
   "outputs": [
    {
     "name": "stdout",
     "output_type": "stream",
     "text": [
      "<class 'pandas.core.frame.DataFrame'>\n",
      "RangeIndex: 28 entries, 0 to 27\n",
      "Data columns (total 9 columns):\n",
      " #   Column  Non-Null Count  Dtype \n",
      "---  ------  --------------  ----- \n",
      " 0   Регіон  28 non-null     object\n",
      " 1   1950    28 non-null     object\n",
      " 2   1960    28 non-null     object\n",
      " 3   1970    28 non-null     object\n",
      " 4   1990    28 non-null     int64 \n",
      " 5   2000    28 non-null     int64 \n",
      " 6   2012    28 non-null     int64 \n",
      " 7   2014    28 non-null     object\n",
      " 8   2019    28 non-null     object\n",
      "dtypes: int64(3), object(6)\n",
      "memory usage: 2.1+ KB\n"
     ]
    }
   ],
   "source": [
    "#Замініть відсутні дані в стовпцях середніми значеннями цих стовпців (метод fillna)\n",
    "#df5.fillna(0, replace, axis, inplace, limit, downcast)\n",
    "df33 = df3.replace(np.nan, \"0\")\n",
    "df33.info()"
   ]
  },
  {
   "cell_type": "code",
   "execution_count": 18,
   "id": "ee58ae16-6997-458d-8f09-81b56ba8ae18",
   "metadata": {},
   "outputs": [
    {
     "name": "stdout",
     "output_type": "stream",
     "text": [
      "Регіон    object\n",
      "1950       Int64\n",
      "1960       Int64\n",
      "1970       Int64\n",
      "1990       int64\n",
      "2000       int64\n",
      "2012       int64\n",
      "2014       Int64\n",
      "2019       Int64\n",
      "dtype: object\n"
     ]
    }
   ],
   "source": [
    "columns_to_convert = ['1950', '1960', '1970', '2014', '2019']  # Перелік колонок, які треба перетворити\n",
    "\n",
    "for column in columns_to_convert:\n",
    "    df33[column] = pd.to_numeric(df33[column], errors='coerce').astype('Int64')\n",
    "\n",
    "# Виведемо типи даних у колонках для перевірки\n",
    "print(df33.dtypes)"
   ]
  },
  {
   "cell_type": "code",
   "execution_count": 19,
   "id": "7c1ca07a-86ad-445b-afc0-68c7de9a15c8",
   "metadata": {},
   "outputs": [],
   "source": [
    "# df[['1950', '1960', '1970', '1990', '2000', '2012', '2014', '2019']].mean()\n",
    "selected_columns = ['1950', '1960', '1970', '1990', '2000', '2012', '2014', '2019']\n",
    "means = df33[selected_columns].mean()\n",
    "# print(means)"
   ]
  },
  {
   "cell_type": "code",
   "execution_count": 20,
   "id": "8d6e6365-69c4-42b1-b11d-61c0ec7c4b16",
   "metadata": {},
   "outputs": [
    {
     "name": "stdout",
     "output_type": "stream",
     "text": [
      "Заміняємо відсутні дані в стовпцях середніми значеннями цих стовпців \n",
      "1950    214.43\n",
      "1960    200.07\n",
      "1970    150.29\n",
      "1990    130.43\n",
      "2000     82.07\n",
      "2012    116.46\n",
      "2014    103.46\n",
      "2019     68.75\n",
      "dtype: Float64\n",
      "               Регіон   1950   1960   1970   1990   2000   2012   2014   2019\n",
      "0                Крим  230.0  206.0  160.0  130.0   73.0  126.0  111.4   80.2\n",
      "1           Вінницька  224.0  192.0  142.0  124.0   84.0  112.0  109.0   76.0\n",
      "2           Волинська  247.0  250.0  179.0  153.0  112.0  148.0  141.0  101.0\n",
      "3    Дніпропетровська  204.0  204.0  151.0  123.0   71.0  112.0  111.0   71.0\n",
      "4            Донецька  271.0  214.0  140.0  109.0   61.0   98.0   82.0   80.2\n",
      "5         Житомирська  261.0  223.0  159.0  129.0   89.0  122.0  120.0   79.0\n",
      "6        Закарпатська  314.0  273.0  207.0  168.0  115.0  151.0  146.0  104.0\n",
      "7          Запорізька  219.0  197.0  150.0  124.0   71.0  106.0  106.0   68.0\n",
      "8   Івано-Франківська  243.0  248.0  182.0  155.0  103.0  124.0  122.0   88.0\n",
      "9            Київська  204.0  189.0  156.0  123.0   73.0  122.0  121.0   80.0\n",
      "10     Кіровоградська  216.0  171.0  145.0  126.0   79.0  110.0  108.0   68.0\n",
      "11          Луганська  262.0  235.0  144.0  116.0   62.0   96.0   51.0   80.2\n",
      "12          Львівська  234.0  240.0  171.0  140.0   91.0  119.0  119.0   87.0\n",
      "13       Миколаївська  211.0  194.0  155.0  137.0   80.0  115.0  112.0   71.0\n",
      "14            Одеська  241.0  192.0  148.0  126.0   80.0  127.0  123.0   88.0\n",
      "15         Полтавська  186.0  163.0  131.0  118.0   70.0   99.0  100.0   65.0\n",
      "16         Рівненська  269.0  267.0  193.0  158.0  118.0  159.0  148.0  107.0\n",
      "17            Сумська  216.0  184.0  132.0  115.0   70.0   97.0   92.0   60.0\n",
      "18      Тернопільська  213.0  216.0  157.0  142.0   92.0  113.0  109.0   76.0\n",
      "19         Харківська  197.0  173.0  140.0  114.0   68.0   99.0  101.0   68.0\n",
      "20         Херсонська  208.0  214.0  166.0  143.0   85.0  117.0  115.0   81.0\n",
      "21        Хмельницька  234.0  198.0  148.0  129.0   85.0  113.0  112.0   79.0\n",
      "22          Черкаська  205.0  179.0  144.0  123.0   75.0  100.0   98.0   64.0\n",
      "23        Чернівецька  247.0  218.0  170.0  148.0  101.0  128.0  129.0   92.0\n",
      "24       Чернігівська  220.0  183.0  127.0  108.0   69.0   94.0   90.0   61.0\n",
      "25               Київ  230.9  174.0  159.0  120.0   73.0  120.0  121.0  110.0\n",
      "26        Севастополь  230.9  207.5  155.9  125.0   70.0  120.0  111.4   80.2\n",
      "27            Україна  228.0  205.0  152.0  126.0   78.0  114.0  111.0   81.0\n"
     ]
    }
   ],
   "source": [
    "means = df33[selected_columns].mean()\n",
    "for column in selected_columns:\n",
    "    mean_value = df33[column].replace(0, pd.NA).mean()\n",
    "    df33[column] = df33[column].astype(float).replace({0: pd.NA}).fillna(mean_value)\n",
    "    df33[column] = df33[column].round(1)\n",
    "print(f'Заміняємо відсутні дані в стовпцях середніми значеннями цих стовпців \\n{means.round(2)}')\n",
    "print(df33)\n"
   ]
  },
  {
   "cell_type": "code",
   "execution_count": 23,
   "id": "8c64d24d-a2be-46ca-898d-f0fc772acf74",
   "metadata": {},
   "outputs": [
    {
     "name": "stdout",
     "output_type": "stream",
     "text": [
      "список регіонів, де рівень народжуваності у 2019 році був вищим за середній 80.21 по Україні\n",
      "{'Волинська': 101.0, 'Закарпатська': 104.0, 'Івано-Франківська': 88.0, 'Львівська': 87.0, 'Одеська': 88.0, 'Рівненська': 107.0, 'Херсонська': 81.0, 'Чернівецька': 92.0, 'Київ': 110.0}\n",
      "               Регіон   1950   1960   1970   1990   2000   2012   2014   2019\n",
      "0                Крим  230.0  206.0  160.0  130.0   73.0  126.0  111.4   80.2\n",
      "1           Вінницька  224.0  192.0  142.0  124.0   84.0  112.0  109.0   76.0\n",
      "2           Волинська  247.0  250.0  179.0  153.0  112.0  148.0  141.0  101.0\n",
      "3    Дніпропетровська  204.0  204.0  151.0  123.0   71.0  112.0  111.0   71.0\n",
      "4            Донецька  271.0  214.0  140.0  109.0   61.0   98.0   82.0   80.2\n",
      "5         Житомирська  261.0  223.0  159.0  129.0   89.0  122.0  120.0   79.0\n",
      "6        Закарпатська  314.0  273.0  207.0  168.0  115.0  151.0  146.0  104.0\n",
      "7          Запорізька  219.0  197.0  150.0  124.0   71.0  106.0  106.0   68.0\n",
      "8   Івано-Франківська  243.0  248.0  182.0  155.0  103.0  124.0  122.0   88.0\n",
      "9            Київська  204.0  189.0  156.0  123.0   73.0  122.0  121.0   80.0\n",
      "10     Кіровоградська  216.0  171.0  145.0  126.0   79.0  110.0  108.0   68.0\n",
      "11          Луганська  262.0  235.0  144.0  116.0   62.0   96.0   51.0   80.2\n",
      "12          Львівська  234.0  240.0  171.0  140.0   91.0  119.0  119.0   87.0\n",
      "13       Миколаївська  211.0  194.0  155.0  137.0   80.0  115.0  112.0   71.0\n",
      "14            Одеська  241.0  192.0  148.0  126.0   80.0  127.0  123.0   88.0\n",
      "15         Полтавська  186.0  163.0  131.0  118.0   70.0   99.0  100.0   65.0\n",
      "16         Рівненська  269.0  267.0  193.0  158.0  118.0  159.0  148.0  107.0\n",
      "17            Сумська  216.0  184.0  132.0  115.0   70.0   97.0   92.0   60.0\n",
      "18      Тернопільська  213.0  216.0  157.0  142.0   92.0  113.0  109.0   76.0\n",
      "19         Харківська  197.0  173.0  140.0  114.0   68.0   99.0  101.0   68.0\n",
      "20         Херсонська  208.0  214.0  166.0  143.0   85.0  117.0  115.0   81.0\n",
      "21        Хмельницька  234.0  198.0  148.0  129.0   85.0  113.0  112.0   79.0\n",
      "22          Черкаська  205.0  179.0  144.0  123.0   75.0  100.0   98.0   64.0\n",
      "23        Чернівецька  247.0  218.0  170.0  148.0  101.0  128.0  129.0   92.0\n",
      "24       Чернігівська  220.0  183.0  127.0  108.0   69.0   94.0   90.0   61.0\n",
      "25               Київ  230.9  174.0  159.0  120.0   73.0  120.0  121.0  110.0\n",
      "26        Севастополь  230.9  207.5  155.9  125.0   70.0  120.0  111.4   80.2\n",
      "27            Україна  228.0  205.0  152.0  126.0   78.0  114.0  111.0   81.0\n"
     ]
    }
   ],
   "source": [
    "#Отримайте список регіонів, де рівень народжуваності у 2019 році був вищим за середній по Україні\n",
    "average=df33['2019'].mean()\n",
    "value={}\n",
    "for i in range (df33.index[-1]):\n",
    "    \n",
    "    if df33.loc[i, '2019']>df33['2019'].mean():\n",
    "        value[df33.loc[i, 'Регіон']]=df33.loc[i, '2019']\n",
    "print(f'список регіонів, де рівень народжуваності у 2019 році був вищим за середній {average.round(2)} по Україні')\n",
    "print(value)\n",
    "print(df33)\n",
    "# df34 = df33.drop(df33.index[-1])\n",
    "\n",
    "# list(df34['Регіон'])"
   ]
  },
  {
   "cell_type": "code",
   "execution_count": 24,
   "id": "f8136035-ca22-4058-890d-ee1ef940bed2",
   "metadata": {},
   "outputs": [
    {
     "name": "stdout",
     "output_type": "stream",
     "text": [
      "Рівненська : 148.0\n"
     ]
    }
   ],
   "source": [
    "#У якому регіоні була найвища народжуваність у 2014 році?\n",
    "max_value=df33['2014'].max()\n",
    "max_index=df33['2014'].idxmax()\n",
    "region_with_max_value = df33.loc[max_index, 'Регіон']\n",
    "print(f'{region_with_max_value} : {max_value}')"
   ]
  },
  {
   "cell_type": "code",
   "execution_count": 35,
   "id": "af9c6311-002e-4856-9719-86bb8f0d3cfd",
   "metadata": {},
   "outputs": [
    {
     "name": "stdout",
     "output_type": "stream",
     "text": [
      "               Регіон   1950   1960   1970   1990   2000   2012   2014   2019\n",
      "0                Крим  230.0  206.0  160.0  130.0   73.0  126.0  111.4   80.2\n",
      "1           Вінницька  224.0  192.0  142.0  124.0   84.0  112.0  109.0   76.0\n",
      "2           Волинська  247.0  250.0  179.0  153.0  112.0  148.0  141.0  101.0\n",
      "3    Дніпропетровська  204.0  204.0  151.0  123.0   71.0  112.0  111.0   71.0\n",
      "4            Донецька  271.0  214.0  140.0  109.0   61.0   98.0   82.0   80.2\n",
      "5         Житомирська  261.0  223.0  159.0  129.0   89.0  122.0  120.0   79.0\n",
      "6        Закарпатська  314.0  273.0  207.0  168.0  115.0  151.0  146.0  104.0\n",
      "7          Запорізька  219.0  197.0  150.0  124.0   71.0  106.0  106.0   68.0\n",
      "8   Івано-Франківська  243.0  248.0  182.0  155.0  103.0  124.0  122.0   88.0\n",
      "9            Київська  204.0  189.0  156.0  123.0   73.0  122.0  121.0   80.0\n",
      "10     Кіровоградська  216.0  171.0  145.0  126.0   79.0  110.0  108.0   68.0\n",
      "11          Луганська  262.0  235.0  144.0  116.0   62.0   96.0   51.0   80.2\n",
      "12          Львівська  234.0  240.0  171.0  140.0   91.0  119.0  119.0   87.0\n",
      "13       Миколаївська  211.0  194.0  155.0  137.0   80.0  115.0  112.0   71.0\n",
      "14            Одеська  241.0  192.0  148.0  126.0   80.0  127.0  123.0   88.0\n",
      "15         Полтавська  186.0  163.0  131.0  118.0   70.0   99.0  100.0   65.0\n",
      "16         Рівненська  269.0  267.0  193.0  158.0  118.0  159.0  148.0  107.0\n",
      "17            Сумська  216.0  184.0  132.0  115.0   70.0   97.0   92.0   60.0\n",
      "18      Тернопільська  213.0  216.0  157.0  142.0   92.0  113.0  109.0   76.0\n",
      "19         Харківська  197.0  173.0  140.0  114.0   68.0   99.0  101.0   68.0\n",
      "20         Херсонська  208.0  214.0  166.0  143.0   85.0  117.0  115.0   81.0\n",
      "21        Хмельницька  234.0  198.0  148.0  129.0   85.0  113.0  112.0   79.0\n",
      "22          Черкаська  205.0  179.0  144.0  123.0   75.0  100.0   98.0   64.0\n",
      "23        Чернівецька  247.0  218.0  170.0  148.0  101.0  128.0  129.0   92.0\n",
      "24       Чернігівська  220.0  183.0  127.0  108.0   69.0   94.0   90.0   61.0\n",
      "25               Київ  230.9  174.0  159.0  120.0   73.0  120.0  121.0  110.0\n",
      "26        Севастополь  230.9  207.5  155.9  125.0   70.0  120.0  111.4   80.2\n",
      "27            Україна  228.0  205.0  152.0  126.0   78.0  114.0  111.0   81.0\n"
     ]
    },
    {
     "data": {
      "image/png": "[encoded data removed]",
      "text/plain": [
       "<Figure size 640x480 with 1 Axes>"
      ]
     },
     "metadata": {},
     "output_type": "display_data"
    }
   ],
   "source": [
    "#Побудуйте стовпчикову діаграму народжуваності по регіонах у 2019 році\n",
    "import matplotlib.pyplot as plt\n",
    "print(df33)\n",
    "date_region={}\n",
    "for i in range (df33.index[-1]):\n",
    "     date_region[df33.loc[i, 'Регіон']]=df33.loc[i, '2019']\n",
    "keys = list(date_region.keys())\n",
    "values = list(date_region.values())\n",
    "plt.bar(keys, values, color=\"b\")\n",
    "plt.xlabel('Регіон')\n",
    "plt.ylabel('Рівень народжуваності у 2019')\n",
    "plt.title('Рівень народжуваності у 2019 по регіонах України')\n",
    "plt.xticks(rotation=90)\n",
    "plt.tight_layout()\n",
    "plt.grid()\n",
    "plt.show()\n",
    "# plt.xlabel(\"Країна\", fontsize=\"small\", color=\"midnightblue\")\n",
    "# plt.ylabel(\"Кількість\", fontsize=\"small\", color=\"midnightblue\")\n",
    "# plt.title(\"Золоті медалі: Літня олімпіада Токіо 2020\", fontsize=15)\n",
    "# plt.show()"
   ]
  },
  {
   "cell_type": "code",
   "execution_count": null,
   "id": "f47c99d6-7151-4063-b841-cc7b72a2d77e",
   "metadata": {},
   "outputs": [],
   "source": []
  }
 ],
 "metadata": {
  "kernelspec": {
   "display_name": "Python 3 (ipykernel)",
   "language": "python",
   "name": "python3"
  },
  "language_info": {
   "codemirror_mode": {
    "name": "ipython",
    "version": 3
   },
   "file_extension": ".py",
   "mimetype": "text/x-python",
   "name": "python",
   "nbconvert_exporter": "python",
   "pygments_lexer": "ipython3",
   "version": "3.10.8"
  }
 },
 "nbformat": 4,
 "nbformat_minor": 5
}
