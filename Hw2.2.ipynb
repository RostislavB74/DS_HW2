{
 "cells": [
  {
   "cell_type": "code",
   "execution_count": 26,
   "id": "a9e315b5-fb9e-4cf0-ade5-56825372bef9",
   "metadata": {},
   "outputs": [],
   "source": [
    "#Прочитайте файл 2017_jun_final.csv за допомогою методу read_csv\n",
    "import pandas as pd\n",
    "import numpy as np\n",
    "df=pd.read_csv('2017_jun_final.csv')\n",
    "df_copy =df.copy()\n"
   ]
  },
  {
   "cell_type": "code",
   "execution_count": 7,
   "id": "fa8f7fb3-bd2d-4c7b-bc12-a478f2c666b5",
   "metadata": {},
   "outputs": [
    {
     "data": {
      "text/plain": [
       "['N',\n",
       " 'Должность',\n",
       " 'Язык.программирования',\n",
       " 'Специализация',\n",
       " 'Общий.опыт.работы',\n",
       " 'Опыт.работы.на.текущем.месте',\n",
       " 'Зарплата.в.месяц',\n",
       " 'Изменение.зарплаты.за.12.месяцев',\n",
       " 'Город',\n",
       " 'Размер.компании',\n",
       " 'Тип.компании',\n",
       " 'Пол',\n",
       " 'Возраст',\n",
       " 'Образование',\n",
       " 'Университет',\n",
       " 'Еще.студент',\n",
       " 'Уровень.английского',\n",
       " 'Предметная.область',\n",
       " 'Дата.заполнения',\n",
       " 'User.Agent',\n",
       " 'exp',\n",
       " 'current_job_exp',\n",
       " 'salary',\n",
       " 'Валюта',\n",
       " 'cls']"
      ]
     },
     "execution_count": 7,
     "metadata": {},
     "output_type": "execute_result"
    }
   ],
   "source": [
    "#Прочитайте отриману таблицю, використовуючи метод head\n",
    "list(df.head())"
   ]
  },
  {
   "cell_type": "code",
   "execution_count": 31,
   "id": "c6a568de-7d28-437c-9d00-3d14ce5b1cf6",
   "metadata": {},
   "outputs": [
    {
     "name": "stdout",
     "output_type": "stream",
     "text": [
      "строки, стовбці\n"
     ]
    },
    {
     "data": {
      "text/plain": [
       "(8704, 25)"
      ]
     },
     "execution_count": 31,
     "metadata": {},
     "output_type": "execute_result"
    }
   ],
   "source": [
    "#Визначте розмір таблиці за допомогою методу shape строки, стовбці\n",
    "print('строки, стовбці')\n",
    "df.shape"
   ]
  },
  {
   "cell_type": "code",
   "execution_count": 12,
   "id": "04b7e37d-db59-4441-aadb-39d57dcfa2bd",
   "metadata": {},
   "outputs": [
    {
     "data": {
      "text/plain": [
       "N                                     int64\n",
       "Должность                            object\n",
       "Язык.программирования                object\n",
       "Специализация                        object\n",
       "Общий.опыт.работы                    object\n",
       "Опыт.работы.на.текущем.месте         object\n",
       "Зарплата.в.месяц                      int64\n",
       "Изменение.зарплаты.за.12.месяцев      int64\n",
       "Город                                object\n",
       "Размер.компании                      object\n",
       "Тип.компании                         object\n",
       "Пол                                  object\n",
       "Возраст                               int64\n",
       "Образование                          object\n",
       "Университет                          object\n",
       "Еще.студент                            bool\n",
       "Уровень.английского                  object\n",
       "Предметная.область                   object\n",
       "Дата.заполнения                      object\n",
       "User.Agent                           object\n",
       "exp                                 float64\n",
       "current_job_exp                     float64\n",
       "salary                                int64\n",
       "Валюта                               object\n",
       "cls                                  object\n",
       "dtype: object"
      ]
     },
     "execution_count": 12,
     "metadata": {},
     "output_type": "execute_result"
    }
   ],
   "source": [
    "df.dtypes"
   ]
  },
  {
   "cell_type": "code",
   "execution_count": 23,
   "id": "7809fcaf-b731-4c96-a8ac-3c0839cf5207",
   "metadata": {},
   "outputs": [
    {
     "name": "stdout",
     "output_type": "stream",
     "text": [
      "Частка пропусків в кожній колонці:\n",
      "N                                    0.00\n",
      "Должность                            0.00\n",
      "Язык.программирования               44.23\n",
      "Специализация                       82.94\n",
      "Общий.опыт.работы                    0.00\n",
      "Опыт.работы.на.текущем.месте         0.00\n",
      "Зарплата.в.месяц                     0.00\n",
      "Изменение.зарплаты.за.12.месяцев     0.00\n",
      "Город                                0.00\n",
      "Размер.компании                      0.00\n",
      "Тип.компании                         0.00\n",
      "Пол                                  0.00\n",
      "Возраст                              0.00\n",
      "Образование                          0.00\n",
      "Университет                          4.11\n",
      "Еще.студент                          0.00\n",
      "Уровень.английского                  0.00\n",
      "Предметная.область                   2.56\n",
      "Дата.заполнения                      0.00\n",
      "User.Agent                           0.00\n",
      "exp                                  0.00\n",
      "current_job_exp                      0.00\n",
      "salary                               0.00\n",
      "Валюта                              99.89\n",
      "cls                                 18.08\n",
      "dtype: float64\n"
     ]
    }
   ],
   "source": [
    "#Порахуйте, яка частка пропусків міститься в кожній колонці (використовуйте методи isnull та sum)\n",
    "missing_values = df.isnull().sum()\n",
    "# Підрахунок частки пропущених значень в кожній колонці\n",
    "total_rows = len(df)\n",
    "missing_percentage = (missing_values / total_rows) * 100\n",
    "# Виведемо результати\n",
    "print(\"Частка пропусків в кожній колонці:\")\n",
    "print(missing_percentage.round(2))"
   ]
  },
  {
   "cell_type": "code",
   "execution_count": 20,
   "id": "503eeb21-f580-4ffa-bf64-4c70087cf7a6",
   "metadata": {},
   "outputs": [
    {
     "name": "stdout",
     "output_type": "stream",
     "text": [
      "   N           Должность Язык.программирования Специализация  \\\n",
      "0  1  Junior QA engineer                   NaN     Manual QA   \n",
      "1  2  Junior QA engineer                   NaN     Manual QA   \n",
      "2  3   Software Engineer               C#/.NET           NaN   \n",
      "\n",
      "  Общий.опыт.работы Опыт.работы.на.текущем.месте  Зарплата.в.месяц  \\\n",
      "0               0.5                          0.5               400   \n",
      "1  меньше 3 месяцев             меньше 3 месяцев               430   \n",
      "2                 4                            1              2500   \n",
      "\n",
      "   Изменение.зарплаты.за.12.месяцев    Город     Размер.компании  ...  \\\n",
      "0                                 0  Харьков       до 10 человек  ...   \n",
      "1                               130  Харьков  свыше 1000 человек  ...   \n",
      "2                               800     Киев     до 1000 человек  ...   \n",
      "\n",
      "  Еще.студент Уровень.английского                    Предметная.область  \\\n",
      "0        True       ниже среднего                         iOS,eCommerce   \n",
      "1        True       выше среднего                        Веб-разработка   \n",
      "2       False             средний  Веб-разработка,Корпоративные системы   \n",
      "\n",
      "       Дата.заполнения                                         User.Agent  \\\n",
      "0  12/06/2017 12:38:08  Mozilla/5.0 (Windows NT 10.0; Win64; x64) Appl...   \n",
      "1  12/06/2017 12:42:51  Mozilla/5.0 (iPad; CPU OS 10_2_1 like Mac OS X...   \n",
      "2  12/06/2017 13:02:47  Mozilla/5.0 (Windows NT 10.0; Win64; x64) Appl...   \n",
      "\n",
      "   exp current_job_exp salary Валюта  cls  \n",
      "0  0.5             0.5    400    NaN   QA  \n",
      "1  0.0             0.0    430    NaN   QA  \n",
      "2  4.0             1.0   2500    NaN  DEV  \n",
      "\n",
      "[3 rows x 25 columns]\n"
     ]
    }
   ],
   "source": [
    "#Видаліть усі стовпці з пропусками, крім стовпця \"Мова програмування\"\n",
    "missing_values = df.isnull().sum()\n",
    "print (df.head(3))"
   ]
  },
  {
   "cell_type": "code",
   "execution_count": 21,
   "id": "fcafa2ad-150c-4193-a0e8-c4a0548d1e6b",
   "metadata": {},
   "outputs": [
    {
     "data": {
      "text/plain": [
       "['N',\n",
       " 'Должность',\n",
       " 'Язык.программирования',\n",
       " 'Специализация',\n",
       " 'Общий.опыт.работы',\n",
       " 'Опыт.работы.на.текущем.месте',\n",
       " 'Зарплата.в.месяц',\n",
       " 'Изменение.зарплаты.за.12.месяцев',\n",
       " 'Город',\n",
       " 'Размер.компании',\n",
       " 'Тип.компании',\n",
       " 'Пол',\n",
       " 'Возраст',\n",
       " 'Образование',\n",
       " 'Университет',\n",
       " 'Еще.студент',\n",
       " 'Уровень.английского',\n",
       " 'Предметная.область',\n",
       " 'Дата.заполнения',\n",
       " 'User.Agent',\n",
       " 'exp',\n",
       " 'current_job_exp',\n",
       " 'salary',\n",
       " 'Валюта',\n",
       " 'cls']"
      ]
     },
     "execution_count": 21,
     "metadata": {},
     "output_type": "execute_result"
    }
   ],
   "source": [
    "df.columns.tolist()"
   ]
  },
  {
   "cell_type": "code",
   "execution_count": 23,
   "id": "b3a3c88b-c1d5-4f0a-9da7-1f780a69473e",
   "metadata": {},
   "outputs": [
    {
     "ename": "AttributeError",
     "evalue": "'DataFrame' object has no attribute 'type'",
     "output_type": "error",
     "traceback": [
      "\u001b[1;31m---------------------------------------------------------------------------\u001b[0m",
      "\u001b[1;31mAttributeError\u001b[0m                            Traceback (most recent call last)",
      "\u001b[1;32m~\\AppData\\Local\\Temp\\ipykernel_9328\\47106444.py\u001b[0m in \u001b[0;36m?\u001b[1;34m()\u001b[0m\n\u001b[0;32m      1\u001b[0m \u001b[1;32mimport\u001b[0m \u001b[0mnumpy\u001b[0m \u001b[1;32mas\u001b[0m \u001b[0mnp\u001b[0m\u001b[1;33m\u001b[0m\u001b[1;33m\u001b[0m\u001b[0m\n\u001b[1;32m----> 2\u001b[1;33m \u001b[0mdf\u001b[0m\u001b[1;33m.\u001b[0m\u001b[0mtype\u001b[0m\u001b[1;33m.\u001b[0m\u001b[0mvalue_counts\u001b[0m\u001b[1;33m(\u001b[0m\u001b[1;33m)\u001b[0m\u001b[1;33m\u001b[0m\u001b[1;33m\u001b[0m\u001b[0m\n\u001b[0m",
      "\u001b[1;32m~\\AppData\\Local\\Programs\\Python\\Python310\\lib\\site-packages\\pandas\\core\\generic.py\u001b[0m in \u001b[0;36m?\u001b[1;34m(self, name)\u001b[0m\n\u001b[0;32m   6200\u001b[0m             \u001b[1;32mand\u001b[0m \u001b[0mname\u001b[0m \u001b[1;32mnot\u001b[0m \u001b[1;32min\u001b[0m \u001b[0mself\u001b[0m\u001b[1;33m.\u001b[0m\u001b[0m_accessors\u001b[0m\u001b[1;33m\u001b[0m\u001b[1;33m\u001b[0m\u001b[0m\n\u001b[0;32m   6201\u001b[0m             \u001b[1;32mand\u001b[0m \u001b[0mself\u001b[0m\u001b[1;33m.\u001b[0m\u001b[0m_info_axis\u001b[0m\u001b[1;33m.\u001b[0m\u001b[0m_can_hold_identifiers_and_holds_name\u001b[0m\u001b[1;33m(\u001b[0m\u001b[0mname\u001b[0m\u001b[1;33m)\u001b[0m\u001b[1;33m\u001b[0m\u001b[1;33m\u001b[0m\u001b[0m\n\u001b[0;32m   6202\u001b[0m         ):\n\u001b[0;32m   6203\u001b[0m             \u001b[1;32mreturn\u001b[0m \u001b[0mself\u001b[0m\u001b[1;33m[\u001b[0m\u001b[0mname\u001b[0m\u001b[1;33m]\u001b[0m\u001b[1;33m\u001b[0m\u001b[1;33m\u001b[0m\u001b[0m\n\u001b[1;32m-> 6204\u001b[1;33m         \u001b[1;32mreturn\u001b[0m \u001b[0mobject\u001b[0m\u001b[1;33m.\u001b[0m\u001b[0m__getattribute__\u001b[0m\u001b[1;33m(\u001b[0m\u001b[0mself\u001b[0m\u001b[1;33m,\u001b[0m \u001b[0mname\u001b[0m\u001b[1;33m)\u001b[0m\u001b[1;33m\u001b[0m\u001b[1;33m\u001b[0m\u001b[0m\n\u001b[0m",
      "\u001b[1;31mAttributeError\u001b[0m: 'DataFrame' object has no attribute 'type'"
     ]
    }
   ],
   "source": [
    "import numpy as np\n",
    "df.type.value_counts()"
   ]
  },
  {
   "cell_type": "code",
   "execution_count": null,
   "id": "e5628129-9069-40c1-9131-02bd884b13a6",
   "metadata": {},
   "outputs": [],
   "source": []
  }
 ],
 "metadata": {
  "kernelspec": {
   "display_name": "Python 3 (ipykernel)",
   "language": "python",
   "name": "python3"
  },
  "language_info": {
   "codemirror_mode": {
    "name": "ipython",
    "version": 3
   },
   "file_extension": ".py",
   "mimetype": "text/x-python",
   "name": "python",
   "nbconvert_exporter": "python",
   "pygments_lexer": "ipython3",
   "version": "3.10.8"
  }
 },
 "nbformat": 4,
 "nbformat_minor": 5
}
